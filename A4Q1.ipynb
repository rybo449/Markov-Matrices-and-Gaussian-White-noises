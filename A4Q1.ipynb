{
 "metadata": {
  "name": "",
  "signature": "sha256:7f3bbd372178142f9637b6a1e1ffa059fc9b70e30d4d2c913c42dda8090a5aa5"
 },
 "nbformat": 3,
 "nbformat_minor": 0,
 "worksheets": [
  {
   "cells": [
    {
     "cell_type": "code",
     "collapsed": false,
     "input": [
      "#Question 1 Part a)\n",
      "import numpy as np\n",
      "A = np.matrix(((0.5,0.5,0),(0.25,0.5,0.25),(0,0.5,0.5)))\n",
      "print A"
     ],
     "language": "python",
     "metadata": {},
     "outputs": [
      {
       "output_type": "stream",
       "stream": "stdout",
       "text": [
        "[[ 0.5   0.5   0.  ]\n",
        " [ 0.25  0.5   0.25]\n",
        " [ 0.    0.5   0.5 ]]\n"
       ]
      }
     ],
     "prompt_number": 17
    },
    {
     "cell_type": "code",
     "collapsed": false,
     "input": [
      "A2 = A*A\n",
      "print \"1 step ahead(A2):\\n\",A2"
     ],
     "language": "python",
     "metadata": {},
     "outputs": [
      {
       "output_type": "stream",
       "stream": "stdout",
       "text": [
        "1 step ahead(A2):\n",
        "[[ 0.375  0.5    0.125]\n",
        " [ 0.25   0.5    0.25 ]\n",
        " [ 0.125  0.5    0.375]]\n"
       ]
      }
     ],
     "prompt_number": 26
    },
    {
     "cell_type": "code",
     "collapsed": false,
     "input": [
      "A3 = np.matrix(((1,0,0),(0,1,0),(0,0,1)))\n",
      "for i in xrange(3):\n",
      "    A3 = A3*A\n",
      "print \"2 steps ahead(A3):\\n\",A3"
     ],
     "language": "python",
     "metadata": {},
     "outputs": [
      {
       "output_type": "stream",
       "stream": "stdout",
       "text": [
        "2 steps ahead(A3):\n",
        "[[ 0.3125  0.5     0.1875]\n",
        " [ 0.25    0.5     0.25  ]\n",
        " [ 0.1875  0.5     0.3125]]\n"
       ]
      }
     ],
     "prompt_number": 27
    },
    {
     "cell_type": "code",
     "collapsed": false,
     "input": [
      "A6 = np.matrix(((1,0,0),(0,1,0),(0,0,1)))\n",
      "for i in xrange(6):# A^6 would be 5 steps ahead as A^1 is the start point\n",
      "    A6 =A6*A\n",
      "print \"5 steps ahead(A6):\\n\",A6"
     ],
     "language": "python",
     "metadata": {},
     "outputs": [
      {
       "output_type": "stream",
       "stream": "stdout",
       "text": [
        "5 steps ahead(A6):\n",
        "[[ 0.2578125  0.5        0.2421875]\n",
        " [ 0.25       0.5        0.25     ]\n",
        " [ 0.2421875  0.5        0.2578125]]\n"
       ]
      }
     ],
     "prompt_number": 28
    },
    {
     "cell_type": "code",
     "collapsed": false,
     "input": [
      "A11 = np.matrix(((1,0,0),(0,1,0),(0,0,1)))\n",
      "for i in xrange(11):\n",
      "    A11 =A11*A\n",
      "print \"10 steps ahead(A11):\\n\",A11"
     ],
     "language": "python",
     "metadata": {},
     "outputs": [
      {
       "output_type": "stream",
       "stream": "stdout",
       "text": [
        "10 steps ahead(A11):\n",
        "[[ 0.25024414  0.5         0.24975586]\n",
        " [ 0.25        0.5         0.25      ]\n",
        " [ 0.24975586  0.5         0.25024414]]\n"
       ]
      }
     ],
     "prompt_number": 29
    },
    {
     "cell_type": "code",
     "collapsed": false,
     "input": [
      "A26 = np.matrix(((1,0,0),(0,1,0),(0,0,1)))\n",
      "for i in xrange(26):\n",
      "    A26 =A26*A\n",
      "print \"25 steps ahead(A26):\\n\",A26"
     ],
     "language": "python",
     "metadata": {},
     "outputs": [
      {
       "output_type": "stream",
       "stream": "stdout",
       "text": [
        "25 steps ahead(A26):\n",
        "[[ 0.25000001  0.5         0.24999999]\n",
        " [ 0.25        0.5         0.25      ]\n",
        " [ 0.24999999  0.5         0.25000001]]\n"
       ]
      }
     ],
     "prompt_number": 30
    },
    {
     "cell_type": "code",
     "collapsed": false,
     "input": [
      "#Question 1 Part b)\n",
      "import numpy as np\n",
      "M = np.matrix(((1,0,0),(0.25,0.5,0.25),(0,0,1)))\n",
      "print M\n",
      "L = [3,6,11,26]\n",
      "for i in L:\n",
      "    X = np.matrix(((1,0,0),(0,1,0),(0,0,1)))\n",
      "    for j in xrange(i):\n",
      "            X = X*M\n",
      "    print \"M\"+str(i-1),i-1,\"steps ahead is:\\n\",X\n",
      "X1 = X*M\n",
      "count = 25\n",
      "while not np.array_equal(X1,X):\n",
      "    X = X1\n",
      "    X1 = X1*M\n",
      "    count+=1\n",
      "print \"It takes\",count,\"steps to converge to\\n\",X1\n",
      "B = np.matrix(((0,1,0)))\n",
      "Ans = B*X1\n",
      "print \"If started at Room B the probabilities would be like this:\\n\",Ans\n"
     ],
     "language": "python",
     "metadata": {},
     "outputs": [
      {
       "output_type": "stream",
       "stream": "stdout",
       "text": [
        "[[ 1.    0.    0.  ]\n",
        " [ 0.25  0.5   0.25]\n",
        " [ 0.    0.    1.  ]]\n",
        "M2 2 steps ahead is:\n",
        "[[ 1.      0.      0.    ]\n",
        " [ 0.4375  0.125   0.4375]\n",
        " [ 0.      0.      1.    ]]\n",
        "M5 5 steps ahead is:\n",
        "[[ 1.         0.         0.       ]\n",
        " [ 0.4921875  0.015625   0.4921875]\n",
        " [ 0.         0.         1.       ]]\n",
        "M10 10 steps ahead is:\n",
        "[[  1.00000000e+00   0.00000000e+00   0.00000000e+00]\n",
        " [  4.99755859e-01   4.88281250e-04   4.99755859e-01]\n",
        " [  0.00000000e+00   0.00000000e+00   1.00000000e+00]]\n",
        "M25 25 steps ahead is:\n",
        "[[  1.00000000e+00   0.00000000e+00   0.00000000e+00]\n",
        " [  4.99999993e-01   1.49011612e-08   4.99999993e-01]\n",
        " [  0.00000000e+00   0.00000000e+00   1.00000000e+00]]\n",
        "It takes"
       ]
      },
      {
       "output_type": "stream",
       "stream": "stdout",
       "text": [
        " 1074 steps to converge to\n",
        "[[ 1.   0.   0. ]\n",
        " [ 0.5  0.   0.5]\n",
        " [ 0.   0.   1. ]]\n",
        "If started at Room B the probabilities would be like this:\n",
        "[[ 0.5  0.   0.5]]\n"
       ]
      }
     ],
     "prompt_number": 3
    },
    {
     "cell_type": "code",
     "collapsed": false,
     "input": [
      "#Question 1 Part c)\n",
      "import numpy as np\n",
      "M = np.matrix(((0.5,0.5,0,0,0),(0.25,0.5,0.25,0,0),(0,0.25,0.5,0.25,0),(0,0,0.25,0.5,0.25),(0,0,0,0.5,0.5)))\n",
      "print M\n",
      "\n",
      "X = np.matrix(((1,0,0,0,0),(0,1,0,0,0),(0,0,1,0,0),(0,0,0,1,0),(0,0,0,0,1)))\n",
      "X1 = X*M\n",
      "count = 0\n",
      "while not np.array_equal(X1,X):\n",
      "    X = X1\n",
      "    X1 = X1*M\n",
      "    count+=1\n",
      "print \"It takes\",count,\"steps to converge to\\n\",X1\n",
      "C = np.matrix(((0,0,1,0,0)))\n",
      "Ans = C*X1\n",
      "print \"If started at Room C the probabilities would be like this:\\n\",Ans"
     ],
     "language": "python",
     "metadata": {},
     "outputs": [
      {
       "output_type": "stream",
       "stream": "stdout",
       "text": [
        "[[ 0.5   0.5   0.    0.    0.  ]\n",
        " [ 0.25  0.5   0.25  0.    0.  ]\n",
        " [ 0.    0.25  0.5   0.25  0.  ]\n",
        " [ 0.    0.    0.25  0.5   0.25]\n",
        " [ 0.    0.    0.    0.5   0.5 ]]\n",
        "It takes 230 steps to converge to\n",
        "[[ 0.125  0.25   0.25   0.25   0.125]\n",
        " [ 0.125  0.25   0.25   0.25   0.125]\n",
        " [ 0.125  0.25   0.25   0.25   0.125]\n",
        " [ 0.125  0.25   0.25   0.25   0.125]\n",
        " [ 0.125  0.25   0.25   0.25   0.125]]\n",
        "If started at Room C the probabilities would be like this:\n",
        "[[ 0.125  0.25   0.25   0.25   0.125]]\n"
       ]
      }
     ],
     "prompt_number": 3
    },
    {
     "cell_type": "code",
     "collapsed": false,
     "input": [
      "'''Based on these results, I would say that if the rat started in any room, there is a 25% chance that\n",
      "it will end up in rooms B,C or D and 12.5% chance that it ends up in rooms A and E.'''"
     ],
     "language": "python",
     "metadata": {},
     "outputs": [
      {
       "metadata": {},
       "output_type": "pyout",
       "prompt_number": 4,
       "text": [
        "'Based on these results, I would say that if the rat started in any room, there is a 25% chance that\\nit will end up in rooms B,C or D and 12.5% chance that it ends up in rooms A and E.'"
       ]
      }
     ],
     "prompt_number": 4
    },
    {
     "cell_type": "code",
     "collapsed": false,
     "input": [],
     "language": "python",
     "metadata": {},
     "outputs": []
    }
   ],
   "metadata": {}
  }
 ]
}