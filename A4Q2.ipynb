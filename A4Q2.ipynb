{
 "metadata": {
  "name": "",
  "signature": "sha256:4fb08fcb902b47c984d271d7463e4a43c425731ddff2038b8ab1dd5bb0830ae6"
 },
 "nbformat": 3,
 "nbformat_minor": 0,
 "worksheets": [
  {
   "cells": [
    {
     "cell_type": "code",
     "collapsed": false,
     "input": [
      "%matplotlib inline\n"
     ],
     "language": "python",
     "metadata": {},
     "outputs": [],
     "prompt_number": 3
    },
    {
     "cell_type": "code",
     "collapsed": false,
     "input": [
      "#Question 2 Part a)\n",
      "import pandas as pd\n",
      "from matplotlib.pyplot import *\n",
      "import numpy as np\n",
      "df = pd.read_stata(r'union_pred.dta')\n",
      "print df.head(5)\n"
     ],
     "language": "python",
     "metadata": {},
     "outputs": [
      {
       "output_type": "stream",
       "stream": "stdout",
       "text": [
        "   idcode  year  age  grade  south  union  black  smsa  prior_union\n",
        "0       1    87   35     12      0      1      1     1            1\n",
        "1       1    83   31     12      0      1      1     1            1\n",
        "2       1    77   25     12      0      0      1     1            1\n",
        "3       1    88   37     12      0      1      1     1            0\n",
        "4       1    85   33     12      0      1      1     1            1\n"
       ]
      }
     ],
     "prompt_number": 22
    },
    {
     "cell_type": "code",
     "collapsed": false,
     "input": [
      "count00 = 0\n",
      "count11 = 0\n",
      "count01 = 0\n",
      "count10 = 0\n",
      "for i in xrange(len(df.prior_union)):\n",
      "    if df.prior_union[i] == df.union[i] == 0:\n",
      "        count00 += 1\n",
      "    elif df.prior_union[i] == df.union[i] == 1:\n",
      "        count11 += 1\n",
      "    elif df.prior_union[i] != df.union[i] and df.union[i] == 1:\n",
      "        count01 += 1\n",
      "    else:\n",
      "        count10 += 1\n",
      "print count11,\n",
      "print count00,\n",
      "print count01,count10\n",
      "row1 = count00 + count01\n",
      "count00 = count00/float(row1)\n",
      "count01 = count01/float(row1)\n",
      "row2 = count10 + count11\n",
      "count10 = count10/float(row2)\n",
      "count11 = count11/float(row2)\n",
      "T = np.matrix(((count00, count01),(count10,count11)))\n",
      "print T\n"
     ],
     "language": "python",
     "metadata": {},
     "outputs": [
      {
       "output_type": "stream",
       "stream": "stdout",
       "text": [
        "2812 14758 2086 2110\n",
        "[[ 0.87615768  0.12384232]\n",
        " [ 0.42868753  0.57131247]]\n"
       ]
      }
     ],
     "prompt_number": 23
    },
    {
     "cell_type": "code",
     "collapsed": false,
     "input": [
      "#Question 2 Part b)"
     ],
     "language": "python",
     "metadata": {},
     "outputs": [],
     "prompt_number": 20
    },
    {
     "cell_type": "code",
     "collapsed": false,
     "input": [
      "import statsmodels.discrete.discrete_model as logit\n",
      "results = logit.Logit(df.prior_union,df.union).fit()\n",
      "print results.summary()\n"
     ],
     "language": "python",
     "metadata": {},
     "outputs": [
      {
       "output_type": "stream",
       "stream": "stdout",
       "text": [
        "Optimization terminated successfully.\n",
        "         Current function value: 0.690666\n",
        "         Iterations 4\n",
        "                           Logit Regression Results                           \n",
        "==============================================================================\n",
        "Dep. Variable:            prior_union   No. Observations:                21766\n",
        "Model:                          Logit   Df Residuals:                    21765\n",
        "Method:                           MLE   Df Model:                            0\n",
        "Date:                Mon, 27 Oct 2014   Pseudo R-squ.:                 -0.2920\n",
        "Time:                        10:48:25   Log-Likelihood:                -15033.\n",
        "converged:                       True   LL-Null:                       -11635.\n",
        "                                        LLR p-value:                     1.000\n",
        "==============================================================================\n",
        "                 coef    std err          z      P>|z|      [95.0% Conf. Int.]\n",
        "------------------------------------------------------------------------------\n",
        "union          0.2986      0.029     10.335      0.000         0.242     0.355\n",
        "=============================================================================="
       ]
      },
      {
       "output_type": "stream",
       "stream": "stdout",
       "text": [
        "\n"
       ]
      }
     ],
     "prompt_number": 10
    },
    {
     "cell_type": "code",
     "collapsed": false,
     "input": [
      "#Question 2 Part c)\n",
      "l = len(df.prior_union)\n",
      "df.prior_union = [0 for i in xrange(l)]\n",
      "count00 = 0\n",
      "count11 = 0\n",
      "count01 = 0\n",
      "count10 = 0\n",
      "for i in xrange(len(df.prior_union)):\n",
      "    if df.prior_union[i] == df.union[i] == 0:\n",
      "        count00 += 1\n",
      "    elif df.prior_union[i] == df.union[i] == 1:\n",
      "        count11 += 1\n",
      "    elif df.prior_union[i] != df.union[i] and df.union[i] == 1:\n",
      "        count01 += 1\n",
      "    else:\n",
      "        count10 += 1\n",
      "#print count11,\n",
      "#print count00,\n",
      "#print count01,count10\n",
      "row1 = count00 + count01\n",
      "pred00 = count00/float(row1)\n",
      "pred01 = count01/float(row1)\n",
      "row2 = count10 + count11\n",
      "#count10 = count10/float(row2)\n",
      "#count11 = count11/float(row2)\n",
      "#T = np.matrix(((count00, count01)))\n",
      "print \"pred00 =\",pred00\n",
      "print \"pred01 =\",pred01\n",
      "#results = logit.Logit(df.prior_union, df.union).fit()\n",
      "#print results.summary()"
     ],
     "language": "python",
     "metadata": {},
     "outputs": [
      {
       "output_type": "stream",
       "stream": "stdout",
       "text": [
        "pred00 = 0.774970136911\n",
        "pred01 = 0.225029863089\n"
       ]
      }
     ],
     "prompt_number": 18
    },
    {
     "cell_type": "code",
     "collapsed": false,
     "input": [
      "#Question 2 Part d) and e)\n",
      "l = len(df.prior_union)\n",
      "df.prior_union = [1 for i in xrange(l)]\n",
      "count00 = 0\n",
      "count11 = 0\n",
      "count01 = 0\n",
      "count10 = 0\n",
      "for i in xrange(len(df.prior_union)):\n",
      "    if df.prior_union[i] == df.union[i] == 0:\n",
      "        count00 += 1\n",
      "    elif df.prior_union[i] == df.union[i] == 1:\n",
      "        count11 += 1\n",
      "    elif df.prior_union[i] != df.union[i] and df.union[i] == 1:\n",
      "        count01 += 1\n",
      "    else:\n",
      "        count10 += 1\n",
      "#print count11,\n",
      "#print count00,\n",
      "#print count01,count10\n",
      "row1 = count00 + count01\n",
      "#pred00 = count00/float(row1)\n",
      "#pred01 = count01/float(row1)\n",
      "row2 = count10 + count11\n",
      "pred10 = count10/float(row2)\n",
      "pred11 = count11/float(row2)\n",
      "#T = np.matrix(((count00, count01)))\n",
      "print \"pred10 =\",pred10\n",
      "print \"pred11 =\",pred11\n",
      "#results = logit.Logit(df.prior_union, df.union).fit()\n",
      "#print results.summary()"
     ],
     "language": "python",
     "metadata": {},
     "outputs": [
      {
       "output_type": "stream",
       "stream": "stdout",
       "text": [
        "pred10 = 0.774970136911\n",
        "pred11 = 0.225029863089\n"
       ]
      }
     ],
     "prompt_number": 20
    },
    {
     "cell_type": "code",
     "collapsed": false,
     "input": [
      "#Question 2 Part f)\n",
      "T1 =np.matrix(((1,0),(0,1)))\n",
      "T2 = np.matrix(((1,0),(0,1)))\n",
      "T1 = T*T\n",
      "T2 = T\n",
      "while not np.array_equal(T1,T2):\n",
      "    T2 = T1\n",
      "    T1 = T2*T\n",
      "print T1"
     ],
     "language": "python",
     "metadata": {},
     "outputs": [
      {
       "output_type": "stream",
       "stream": "stdout",
       "text": [
        "[[ 0.77586312  0.22413688]\n",
        " [ 0.77586312  0.22413688]]\n"
       ]
      }
     ],
     "prompt_number": 24
    },
    {
     "cell_type": "code",
     "collapsed": false,
     "input": [
      "'''We can see that if the value of union tends to be 0 despite the value of prior_union with a probability of 0.78.\n",
      "This is similar to many independent statistics which we have seen.'''"
     ],
     "language": "python",
     "metadata": {},
     "outputs": [
      {
       "metadata": {},
       "output_type": "pyout",
       "prompt_number": 1,
       "text": [
        "'We can see that if the value of union tends to be 0 despite the value of prior_union with a probability of 0.78.\\nThis is similar to many independent statistics which we have seen.'"
       ]
      }
     ],
     "prompt_number": 1
    },
    {
     "cell_type": "code",
     "collapsed": false,
     "input": [],
     "language": "python",
     "metadata": {},
     "outputs": []
    }
   ],
   "metadata": {}
  }
 ]
}